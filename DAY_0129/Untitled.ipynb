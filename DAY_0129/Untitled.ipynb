{
 "cells": [
  {
   "cell_type": "code",
   "execution_count": 1,
   "id": "dc417148-d978-4d56-9750-a3143e35b6d5",
   "metadata": {},
   "outputs": [
    {
     "name": "stdout",
     "output_type": "stream",
     "text": [
      " C 드라이브의 볼륨에는 이름이 없습니다.\n",
      " 볼륨 일련 번호: 146E-A3FB\n",
      "\n",
      " C:\\Users\\kdp\\PycharmProjects\\EXAM_DataAnalyze\\pythonProject\\DAY_0129 디렉터리\n",
      "\n",
      "2024-01-29  오전 11:14    <DIR>          .\n",
      "2024-01-29  오전 09:03    <DIR>          ..\n",
      "2024-01-29  오전 11:12    <DIR>          .ipynb_checkpoints\n",
      "2024-01-29  오전 09:01            29,538 lambda_example.ipynb\n",
      "2024-01-29  오전 11:08            37,714 ready.ipynb\n",
      "2024-01-29  오전 11:14             2,085 Untitled.ipynb\n",
      "               3개 파일              69,337 바이트\n",
      "               3개 디렉터리  138,723,860,480 바이트 남음\n"
     ]
    }
   ],
   "source": [
    "%ls"
   ]
  },
  {
   "cell_type": "code",
   "execution_count": 2,
   "id": "b0b6246b-e22e-4998-94d1-9877a1534640",
   "metadata": {},
   "outputs": [
    {
     "data": {
      "text/plain": [
       "'C:\\\\Users\\\\kdp\\\\PycharmProjects\\\\EXAM_DataAnalyze\\\\pythonProject\\\\DAY_0129'"
      ]
     },
     "execution_count": 2,
     "metadata": {},
     "output_type": "execute_result"
    }
   ],
   "source": [
    "%pwd"
   ]
  },
  {
   "cell_type": "code",
   "execution_count": null,
   "id": "bacb96a4-5251-40c7-8846-b9540413333d",
   "metadata": {},
   "outputs": [],
   "source": []
  }
 ],
 "metadata": {
  "kernelspec": {
   "display_name": "Python 3 (ipykernel)",
   "language": "python",
   "name": "python3"
  },
  "language_info": {
   "codemirror_mode": {
    "name": "ipython",
    "version": 3
   },
   "file_extension": ".py",
   "mimetype": "text/x-python",
   "name": "python",
   "nbconvert_exporter": "python",
   "pygments_lexer": "ipython3",
   "version": "3.8.18"
  }
 },
 "nbformat": 4,
 "nbformat_minor": 5
}
